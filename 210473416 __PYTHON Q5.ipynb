{
 "cells": [
  {
   "cell_type": "code",
   "execution_count": 2,
   "id": "832a61c7",
   "metadata": {},
   "outputs": [],
   "source": [
    "import pandas as pd\n",
    "import numpy as np\n",
    "import seaborn as sns\n",
    "import matplotlib.pyplot as plt"
   ]
  },
  {
   "cell_type": "code",
   "execution_count": 3,
   "id": "9cd35b3e",
   "metadata": {},
   "outputs": [],
   "source": [
    "from sklearn.model_selection import train_test_split\n",
    "from sklearn.linear_model import LogisticRegression\n",
    "from sklearn.preprocessing import StandardScaler\n",
    "from sklearn.metrics import confusion_matrix\n",
    "from sklearn import metrics"
   ]
  },
  {
   "cell_type": "markdown",
   "id": "64246663",
   "metadata": {},
   "source": [
    "# Load data and plot a correlation heatmap"
   ]
  },
  {
   "cell_type": "code",
   "execution_count": 15,
   "id": "476fd768",
   "metadata": {},
   "outputs": [],
   "source": [
    "data_5=pd.read_csv(\"cleaned_data.csv\")"
   ]
  },
  {
   "cell_type": "code",
   "execution_count": 16,
   "id": "5036ff0c",
   "metadata": {},
   "outputs": [
    {
     "data": {
      "text/html": [
       "<div>\n",
       "<style scoped>\n",
       "    .dataframe tbody tr th:only-of-type {\n",
       "        vertical-align: middle;\n",
       "    }\n",
       "\n",
       "    .dataframe tbody tr th {\n",
       "        vertical-align: top;\n",
       "    }\n",
       "\n",
       "    .dataframe thead th {\n",
       "        text-align: right;\n",
       "    }\n",
       "</style>\n",
       "<table border=\"1\" class=\"dataframe\">\n",
       "  <thead>\n",
       "    <tr style=\"text-align: right;\">\n",
       "      <th></th>\n",
       "      <th>Unnamed: 0</th>\n",
       "      <th>Year</th>\n",
       "      <th>Month</th>\n",
       "      <th>DayofMonth</th>\n",
       "      <th>DayOfWeek</th>\n",
       "      <th>DepTime</th>\n",
       "      <th>CRSDepTime</th>\n",
       "      <th>ArrTime</th>\n",
       "      <th>CRSArrTime</th>\n",
       "      <th>UniqueCarrier</th>\n",
       "      <th>...</th>\n",
       "      <th>Distance</th>\n",
       "      <th>TaxiIn</th>\n",
       "      <th>TaxiOut</th>\n",
       "      <th>Cancelled</th>\n",
       "      <th>Diverted</th>\n",
       "      <th>CarrierDelay</th>\n",
       "      <th>WeatherDelay</th>\n",
       "      <th>NASDelay</th>\n",
       "      <th>SecurityDelay</th>\n",
       "      <th>LateAircraftDelay</th>\n",
       "    </tr>\n",
       "  </thead>\n",
       "  <tbody>\n",
       "    <tr>\n",
       "      <th>0</th>\n",
       "      <td>0</td>\n",
       "      <td>2006</td>\n",
       "      <td>1</td>\n",
       "      <td>11</td>\n",
       "      <td>3</td>\n",
       "      <td>743.0</td>\n",
       "      <td>745</td>\n",
       "      <td>1024.0</td>\n",
       "      <td>1018</td>\n",
       "      <td>US</td>\n",
       "      <td>...</td>\n",
       "      <td>1587</td>\n",
       "      <td>45</td>\n",
       "      <td>13</td>\n",
       "      <td>0</td>\n",
       "      <td>0</td>\n",
       "      <td>0</td>\n",
       "      <td>0</td>\n",
       "      <td>0</td>\n",
       "      <td>0</td>\n",
       "      <td>0</td>\n",
       "    </tr>\n",
       "    <tr>\n",
       "      <th>1</th>\n",
       "      <td>1</td>\n",
       "      <td>2006</td>\n",
       "      <td>1</td>\n",
       "      <td>11</td>\n",
       "      <td>3</td>\n",
       "      <td>1053.0</td>\n",
       "      <td>1053</td>\n",
       "      <td>1313.0</td>\n",
       "      <td>1318</td>\n",
       "      <td>US</td>\n",
       "      <td>...</td>\n",
       "      <td>1587</td>\n",
       "      <td>27</td>\n",
       "      <td>19</td>\n",
       "      <td>0</td>\n",
       "      <td>0</td>\n",
       "      <td>0</td>\n",
       "      <td>0</td>\n",
       "      <td>0</td>\n",
       "      <td>0</td>\n",
       "      <td>0</td>\n",
       "    </tr>\n",
       "    <tr>\n",
       "      <th>2</th>\n",
       "      <td>2</td>\n",
       "      <td>2006</td>\n",
       "      <td>1</td>\n",
       "      <td>11</td>\n",
       "      <td>3</td>\n",
       "      <td>1915.0</td>\n",
       "      <td>1915</td>\n",
       "      <td>2110.0</td>\n",
       "      <td>2133</td>\n",
       "      <td>US</td>\n",
       "      <td>...</td>\n",
       "      <td>1587</td>\n",
       "      <td>4</td>\n",
       "      <td>11</td>\n",
       "      <td>0</td>\n",
       "      <td>0</td>\n",
       "      <td>0</td>\n",
       "      <td>0</td>\n",
       "      <td>0</td>\n",
       "      <td>0</td>\n",
       "      <td>0</td>\n",
       "    </tr>\n",
       "    <tr>\n",
       "      <th>3</th>\n",
       "      <td>3</td>\n",
       "      <td>2006</td>\n",
       "      <td>1</td>\n",
       "      <td>11</td>\n",
       "      <td>3</td>\n",
       "      <td>1753.0</td>\n",
       "      <td>1755</td>\n",
       "      <td>1925.0</td>\n",
       "      <td>1933</td>\n",
       "      <td>US</td>\n",
       "      <td>...</td>\n",
       "      <td>872</td>\n",
       "      <td>16</td>\n",
       "      <td>10</td>\n",
       "      <td>0</td>\n",
       "      <td>0</td>\n",
       "      <td>0</td>\n",
       "      <td>0</td>\n",
       "      <td>0</td>\n",
       "      <td>0</td>\n",
       "      <td>0</td>\n",
       "    </tr>\n",
       "    <tr>\n",
       "      <th>4</th>\n",
       "      <td>4</td>\n",
       "      <td>2006</td>\n",
       "      <td>1</td>\n",
       "      <td>11</td>\n",
       "      <td>3</td>\n",
       "      <td>824.0</td>\n",
       "      <td>832</td>\n",
       "      <td>1015.0</td>\n",
       "      <td>1015</td>\n",
       "      <td>US</td>\n",
       "      <td>...</td>\n",
       "      <td>872</td>\n",
       "      <td>27</td>\n",
       "      <td>12</td>\n",
       "      <td>0</td>\n",
       "      <td>0</td>\n",
       "      <td>0</td>\n",
       "      <td>0</td>\n",
       "      <td>0</td>\n",
       "      <td>0</td>\n",
       "      <td>0</td>\n",
       "    </tr>\n",
       "  </tbody>\n",
       "</table>\n",
       "<p>5 rows × 29 columns</p>\n",
       "</div>"
      ],
      "text/plain": [
       "   Unnamed: 0  Year  Month  DayofMonth  DayOfWeek  DepTime  CRSDepTime  \\\n",
       "0           0  2006      1          11          3    743.0         745   \n",
       "1           1  2006      1          11          3   1053.0        1053   \n",
       "2           2  2006      1          11          3   1915.0        1915   \n",
       "3           3  2006      1          11          3   1753.0        1755   \n",
       "4           4  2006      1          11          3    824.0         832   \n",
       "\n",
       "   ArrTime  CRSArrTime UniqueCarrier  ...  Distance TaxiIn  TaxiOut  \\\n",
       "0   1024.0        1018            US  ...      1587     45       13   \n",
       "1   1313.0        1318            US  ...      1587     27       19   \n",
       "2   2110.0        2133            US  ...      1587      4       11   \n",
       "3   1925.0        1933            US  ...       872     16       10   \n",
       "4   1015.0        1015            US  ...       872     27       12   \n",
       "\n",
       "   Cancelled  Diverted  CarrierDelay  WeatherDelay NASDelay SecurityDelay  \\\n",
       "0          0         0             0             0        0             0   \n",
       "1          0         0             0             0        0             0   \n",
       "2          0         0             0             0        0             0   \n",
       "3          0         0             0             0        0             0   \n",
       "4          0         0             0             0        0             0   \n",
       "\n",
       "   LateAircraftDelay  \n",
       "0                  0  \n",
       "1                  0  \n",
       "2                  0  \n",
       "3                  0  \n",
       "4                  0  \n",
       "\n",
       "[5 rows x 29 columns]"
      ]
     },
     "execution_count": 16,
     "metadata": {},
     "output_type": "execute_result"
    }
   ],
   "source": [
    "data_5.head()"
   ]
  },
  {
   "cell_type": "code",
   "execution_count": 17,
   "id": "42a1b43a",
   "metadata": {},
   "outputs": [
    {
     "data": {
      "text/plain": [
       "Index(['Unnamed: 0', 'Year', 'Month', 'DayofMonth', 'DayOfWeek', 'DepTime',\n",
       "       'CRSDepTime', 'ArrTime', 'CRSArrTime', 'UniqueCarrier', 'FlightNum',\n",
       "       'TailNum', 'ActualElapsedTime', 'CRSElapsedTime', 'AirTime', 'ArrDelay',\n",
       "       'DepDelay', 'Origin', 'Dest', 'Distance', 'TaxiIn', 'TaxiOut',\n",
       "       'Cancelled', 'Diverted', 'CarrierDelay', 'WeatherDelay', 'NASDelay',\n",
       "       'SecurityDelay', 'LateAircraftDelay'],\n",
       "      dtype='object')"
      ]
     },
     "execution_count": 17,
     "metadata": {},
     "output_type": "execute_result"
    }
   ],
   "source": [
    "data_5.columns"
   ]
  },
  {
   "cell_type": "code",
   "execution_count": 18,
   "id": "9711727e",
   "metadata": {},
   "outputs": [
    {
     "data": {
      "text/plain": [
       "Unnamed: 0           0\n",
       "Year                 0\n",
       "Month                0\n",
       "DayofMonth           0\n",
       "DayOfWeek            0\n",
       "DepTime              0\n",
       "CRSDepTime           0\n",
       "ArrTime              0\n",
       "CRSArrTime           0\n",
       "UniqueCarrier        0\n",
       "FlightNum            0\n",
       "TailNum              0\n",
       "ActualElapsedTime    0\n",
       "CRSElapsedTime       0\n",
       "AirTime              0\n",
       "ArrDelay             0\n",
       "DepDelay             0\n",
       "Origin               0\n",
       "Dest                 0\n",
       "Distance             0\n",
       "TaxiIn               0\n",
       "TaxiOut              0\n",
       "Cancelled            0\n",
       "Diverted             0\n",
       "CarrierDelay         0\n",
       "WeatherDelay         0\n",
       "NASDelay             0\n",
       "SecurityDelay        0\n",
       "LateAircraftDelay    0\n",
       "dtype: int64"
      ]
     },
     "execution_count": 18,
     "metadata": {},
     "output_type": "execute_result"
    }
   ],
   "source": [
    "data_5.isnull().sum()"
   ]
  },
  {
   "cell_type": "code",
   "execution_count": 19,
   "id": "579f884a",
   "metadata": {},
   "outputs": [],
   "source": [
    "#removing columns which wont be used in the model\n",
    "data_5.drop([\"Unnamed: 0\" , \"UniqueCarrier\" ,\"FlightNum\" ,\"TailNum\" , \"Cancelled\" , \"Diverted\" , \"Year\" , \"DepTime\" , \"ArrTime\" ,\"Origin\" , \"Dest\" , \"ActualElapsedTime\" , \"AirTime\",\"CRSElapsedTime\" , \"WeatherDelay\" , 'NASDelay' , \"CarrierDelay\" , \"SecurityDelay\"], axis=1 , inplace=True)"
   ]
  },
  {
   "cell_type": "code",
   "execution_count": 20,
   "id": "95e1566b",
   "metadata": {},
   "outputs": [],
   "source": [
    "#Add a new column called delaystatus which changes the ArrDelay column into a binary column which could be used as our dependent variable."
   ]
  },
  {
   "cell_type": "code",
   "execution_count": 21,
   "id": "507f97ce",
   "metadata": {},
   "outputs": [],
   "source": [
    "def clean(df):\n",
    "    if df[\"ArrDelay\"]>0 :\n",
    "        return 1\n",
    "    else:\n",
    "        return 0"
   ]
  },
  {
   "cell_type": "code",
   "execution_count": 22,
   "id": "787571ac",
   "metadata": {},
   "outputs": [],
   "source": [
    "data_5[\"delaystatus\"]=data_5.apply(clean , axis=1)"
   ]
  },
  {
   "cell_type": "code",
   "execution_count": 23,
   "id": "fc2212bb",
   "metadata": {},
   "outputs": [
    {
     "data": {
      "text/html": [
       "<div>\n",
       "<style scoped>\n",
       "    .dataframe tbody tr th:only-of-type {\n",
       "        vertical-align: middle;\n",
       "    }\n",
       "\n",
       "    .dataframe tbody tr th {\n",
       "        vertical-align: top;\n",
       "    }\n",
       "\n",
       "    .dataframe thead th {\n",
       "        text-align: right;\n",
       "    }\n",
       "</style>\n",
       "<table border=\"1\" class=\"dataframe\">\n",
       "  <thead>\n",
       "    <tr style=\"text-align: right;\">\n",
       "      <th></th>\n",
       "      <th>Month</th>\n",
       "      <th>DayofMonth</th>\n",
       "      <th>DayOfWeek</th>\n",
       "      <th>CRSDepTime</th>\n",
       "      <th>CRSArrTime</th>\n",
       "      <th>ArrDelay</th>\n",
       "      <th>DepDelay</th>\n",
       "      <th>Distance</th>\n",
       "      <th>TaxiIn</th>\n",
       "      <th>TaxiOut</th>\n",
       "      <th>LateAircraftDelay</th>\n",
       "      <th>delaystatus</th>\n",
       "    </tr>\n",
       "  </thead>\n",
       "  <tbody>\n",
       "    <tr>\n",
       "      <th>0</th>\n",
       "      <td>1</td>\n",
       "      <td>11</td>\n",
       "      <td>3</td>\n",
       "      <td>745</td>\n",
       "      <td>1018</td>\n",
       "      <td>6.0</td>\n",
       "      <td>-2.0</td>\n",
       "      <td>1587</td>\n",
       "      <td>45</td>\n",
       "      <td>13</td>\n",
       "      <td>0</td>\n",
       "      <td>1</td>\n",
       "    </tr>\n",
       "    <tr>\n",
       "      <th>1</th>\n",
       "      <td>1</td>\n",
       "      <td>11</td>\n",
       "      <td>3</td>\n",
       "      <td>1053</td>\n",
       "      <td>1318</td>\n",
       "      <td>-5.0</td>\n",
       "      <td>0.0</td>\n",
       "      <td>1587</td>\n",
       "      <td>27</td>\n",
       "      <td>19</td>\n",
       "      <td>0</td>\n",
       "      <td>0</td>\n",
       "    </tr>\n",
       "    <tr>\n",
       "      <th>2</th>\n",
       "      <td>1</td>\n",
       "      <td>11</td>\n",
       "      <td>3</td>\n",
       "      <td>1915</td>\n",
       "      <td>2133</td>\n",
       "      <td>-23.0</td>\n",
       "      <td>0.0</td>\n",
       "      <td>1587</td>\n",
       "      <td>4</td>\n",
       "      <td>11</td>\n",
       "      <td>0</td>\n",
       "      <td>0</td>\n",
       "    </tr>\n",
       "    <tr>\n",
       "      <th>3</th>\n",
       "      <td>1</td>\n",
       "      <td>11</td>\n",
       "      <td>3</td>\n",
       "      <td>1755</td>\n",
       "      <td>1933</td>\n",
       "      <td>-8.0</td>\n",
       "      <td>-2.0</td>\n",
       "      <td>872</td>\n",
       "      <td>16</td>\n",
       "      <td>10</td>\n",
       "      <td>0</td>\n",
       "      <td>0</td>\n",
       "    </tr>\n",
       "    <tr>\n",
       "      <th>4</th>\n",
       "      <td>1</td>\n",
       "      <td>11</td>\n",
       "      <td>3</td>\n",
       "      <td>832</td>\n",
       "      <td>1015</td>\n",
       "      <td>0.0</td>\n",
       "      <td>-8.0</td>\n",
       "      <td>872</td>\n",
       "      <td>27</td>\n",
       "      <td>12</td>\n",
       "      <td>0</td>\n",
       "      <td>0</td>\n",
       "    </tr>\n",
       "  </tbody>\n",
       "</table>\n",
       "</div>"
      ],
      "text/plain": [
       "   Month  DayofMonth  DayOfWeek  CRSDepTime  CRSArrTime  ArrDelay  DepDelay  \\\n",
       "0      1          11          3         745        1018       6.0      -2.0   \n",
       "1      1          11          3        1053        1318      -5.0       0.0   \n",
       "2      1          11          3        1915        2133     -23.0       0.0   \n",
       "3      1          11          3        1755        1933      -8.0      -2.0   \n",
       "4      1          11          3         832        1015       0.0      -8.0   \n",
       "\n",
       "   Distance  TaxiIn  TaxiOut  LateAircraftDelay  delaystatus  \n",
       "0      1587      45       13                  0            1  \n",
       "1      1587      27       19                  0            0  \n",
       "2      1587       4       11                  0            0  \n",
       "3       872      16       10                  0            0  \n",
       "4       872      27       12                  0            0  "
      ]
     },
     "execution_count": 23,
     "metadata": {},
     "output_type": "execute_result"
    }
   ],
   "source": [
    "data_5.head()"
   ]
  },
  {
   "cell_type": "code",
   "execution_count": 24,
   "id": "61c3dc1c",
   "metadata": {},
   "outputs": [
    {
     "data": {
      "text/plain": [
       "0    7626703\n",
       "1    6642225\n",
       "Name: delaystatus, dtype: int64"
      ]
     },
     "execution_count": 24,
     "metadata": {},
     "output_type": "execute_result"
    }
   ],
   "source": [
    "data_5[\"delaystatus\"].value_counts()"
   ]
  },
  {
   "cell_type": "code",
   "execution_count": 25,
   "id": "04b476ab",
   "metadata": {},
   "outputs": [
    {
     "data": {
      "text/plain": [
       "0    0.534497\n",
       "1    0.465503\n",
       "Name: delaystatus, dtype: float64"
      ]
     },
     "execution_count": 25,
     "metadata": {},
     "output_type": "execute_result"
    }
   ],
   "source": [
    "data_5[\"delaystatus\"].value_counts()/data_5.shape[0]"
   ]
  },
  {
   "cell_type": "code",
   "execution_count": 26,
   "id": "e32160d9",
   "metadata": {},
   "outputs": [],
   "source": [
    "#hence we can see that theres no imbalance in classification"
   ]
  },
  {
   "cell_type": "code",
   "execution_count": 27,
   "id": "1effbbf3",
   "metadata": {},
   "outputs": [],
   "source": [
    "data_5.drop([\"ArrDelay\"] , axis=1 , inplace=True)"
   ]
  },
  {
   "cell_type": "code",
   "execution_count": 28,
   "id": "923e98b6",
   "metadata": {},
   "outputs": [
    {
     "data": {
      "text/html": [
       "<div>\n",
       "<style scoped>\n",
       "    .dataframe tbody tr th:only-of-type {\n",
       "        vertical-align: middle;\n",
       "    }\n",
       "\n",
       "    .dataframe tbody tr th {\n",
       "        vertical-align: top;\n",
       "    }\n",
       "\n",
       "    .dataframe thead th {\n",
       "        text-align: right;\n",
       "    }\n",
       "</style>\n",
       "<table border=\"1\" class=\"dataframe\">\n",
       "  <thead>\n",
       "    <tr style=\"text-align: right;\">\n",
       "      <th></th>\n",
       "      <th>Month</th>\n",
       "      <th>DayofMonth</th>\n",
       "      <th>DayOfWeek</th>\n",
       "      <th>CRSDepTime</th>\n",
       "      <th>CRSArrTime</th>\n",
       "      <th>DepDelay</th>\n",
       "      <th>Distance</th>\n",
       "      <th>TaxiIn</th>\n",
       "      <th>TaxiOut</th>\n",
       "      <th>LateAircraftDelay</th>\n",
       "      <th>delaystatus</th>\n",
       "    </tr>\n",
       "  </thead>\n",
       "  <tbody>\n",
       "    <tr>\n",
       "      <th>0</th>\n",
       "      <td>1</td>\n",
       "      <td>11</td>\n",
       "      <td>3</td>\n",
       "      <td>745</td>\n",
       "      <td>1018</td>\n",
       "      <td>-2.0</td>\n",
       "      <td>1587</td>\n",
       "      <td>45</td>\n",
       "      <td>13</td>\n",
       "      <td>0</td>\n",
       "      <td>1</td>\n",
       "    </tr>\n",
       "    <tr>\n",
       "      <th>1</th>\n",
       "      <td>1</td>\n",
       "      <td>11</td>\n",
       "      <td>3</td>\n",
       "      <td>1053</td>\n",
       "      <td>1318</td>\n",
       "      <td>0.0</td>\n",
       "      <td>1587</td>\n",
       "      <td>27</td>\n",
       "      <td>19</td>\n",
       "      <td>0</td>\n",
       "      <td>0</td>\n",
       "    </tr>\n",
       "    <tr>\n",
       "      <th>2</th>\n",
       "      <td>1</td>\n",
       "      <td>11</td>\n",
       "      <td>3</td>\n",
       "      <td>1915</td>\n",
       "      <td>2133</td>\n",
       "      <td>0.0</td>\n",
       "      <td>1587</td>\n",
       "      <td>4</td>\n",
       "      <td>11</td>\n",
       "      <td>0</td>\n",
       "      <td>0</td>\n",
       "    </tr>\n",
       "    <tr>\n",
       "      <th>3</th>\n",
       "      <td>1</td>\n",
       "      <td>11</td>\n",
       "      <td>3</td>\n",
       "      <td>1755</td>\n",
       "      <td>1933</td>\n",
       "      <td>-2.0</td>\n",
       "      <td>872</td>\n",
       "      <td>16</td>\n",
       "      <td>10</td>\n",
       "      <td>0</td>\n",
       "      <td>0</td>\n",
       "    </tr>\n",
       "    <tr>\n",
       "      <th>4</th>\n",
       "      <td>1</td>\n",
       "      <td>11</td>\n",
       "      <td>3</td>\n",
       "      <td>832</td>\n",
       "      <td>1015</td>\n",
       "      <td>-8.0</td>\n",
       "      <td>872</td>\n",
       "      <td>27</td>\n",
       "      <td>12</td>\n",
       "      <td>0</td>\n",
       "      <td>0</td>\n",
       "    </tr>\n",
       "  </tbody>\n",
       "</table>\n",
       "</div>"
      ],
      "text/plain": [
       "   Month  DayofMonth  DayOfWeek  CRSDepTime  CRSArrTime  DepDelay  Distance  \\\n",
       "0      1          11          3         745        1018      -2.0      1587   \n",
       "1      1          11          3        1053        1318       0.0      1587   \n",
       "2      1          11          3        1915        2133       0.0      1587   \n",
       "3      1          11          3        1755        1933      -2.0       872   \n",
       "4      1          11          3         832        1015      -8.0       872   \n",
       "\n",
       "   TaxiIn  TaxiOut  LateAircraftDelay  delaystatus  \n",
       "0      45       13                  0            1  \n",
       "1      27       19                  0            0  \n",
       "2       4       11                  0            0  \n",
       "3      16       10                  0            0  \n",
       "4      27       12                  0            0  "
      ]
     },
     "execution_count": 28,
     "metadata": {},
     "output_type": "execute_result"
    }
   ],
   "source": [
    "data_5.head()"
   ]
  },
  {
   "cell_type": "code",
   "execution_count": 29,
   "id": "5b0b667d",
   "metadata": {},
   "outputs": [],
   "source": [
    "#plot a correlation matrix using the heatmap graph"
   ]
  },
  {
   "cell_type": "code",
   "execution_count": 30,
   "id": "1448e7a5",
   "metadata": {},
   "outputs": [
    {
     "data": {
      "text/plain": [
       "<AxesSubplot:>"
      ]
     },
     "execution_count": 30,
     "metadata": {},
     "output_type": "execute_result"
    },
    {
     "data": {
      "image/png": "[encoded data removed]",
      "text/plain": [
       "<Figure size 1530x990 with 2 Axes>"
      ]
     },
     "metadata": {
      "needs_background": "light"
     },
     "output_type": "display_data"
    }
   ],
   "source": [
    "figure=plt.figure(figsize=(17,11) , dpi=90)\n",
    "sns.heatmap(data_5.corr() , annot=True , fmt=\" .2g\" , cmap=sns.color_palette(\"YlGnBu\"))"
   ]
  },
  {
   "cell_type": "markdown",
   "id": "8d9f8a32",
   "metadata": {},
   "source": [
    "# Select features"
   ]
  },
  {
   "cell_type": "code",
   "execution_count": 31,
   "id": "e6b58c67",
   "metadata": {},
   "outputs": [],
   "source": [
    "#split the data into the explanatory variables and the dependent variable.\n",
    "#The delaystatus is considered as the dependent variable and if the correlation between the delaystatus and a feature is more than 0.1 the feauture is considered as an explanatory variable"
   ]
  },
  {
   "cell_type": "code",
   "execution_count": 32,
   "id": "72ff75d6",
   "metadata": {},
   "outputs": [],
   "source": [
    "y=data_5[\"delaystatus\"]\n",
    "x=data_5.loc[:, [\"CRSDepTime\" , \"CRSArrTime\" , \"DepDelay\" , \"TaxiIn\" , \"TaxiOut\"  , \"LateAircraftDelay\" , \"CRSArrTime\" , \"CRSDepTime\"]]"
   ]
  },
  {
   "cell_type": "markdown",
   "id": "14ba63fc",
   "metadata": {},
   "source": [
    "# Split the data to train data ,test data and scale it"
   ]
  },
  {
   "cell_type": "code",
   "execution_count": 33,
   "id": "1f5c9745",
   "metadata": {},
   "outputs": [],
   "source": [
    "x_train,x_test,y_train,y_test=train_test_split(x,y, test_size=0.25 , random_state=1 )"
   ]
  },
  {
   "cell_type": "code",
   "execution_count": 34,
   "id": "1562aa83",
   "metadata": {},
   "outputs": [
    {
     "name": "stdout",
     "output_type": "stream",
     "text": [
      "(3567232, 8)\n",
      "(10701696, 8)\n",
      "(3567232,)\n",
      "(10701696,)\n"
     ]
    }
   ],
   "source": [
    "print(x_test.shape)\n",
    "print(x_train.shape)\n",
    "print(y_test.shape)\n",
    "print(y_train.shape)"
   ]
  },
  {
   "cell_type": "code",
   "execution_count": 35,
   "id": "2cf4835d",
   "metadata": {},
   "outputs": [],
   "source": [
    "#Scale the data using the Min max scaler\n",
    "scale=StandardScaler()\n",
    "x_train=scale.fit_transform(x_train)\n",
    "x_test=scale.transform(x_test)"
   ]
  },
  {
   "cell_type": "code",
   "execution_count": 36,
   "id": "d4f5cf59",
   "metadata": {},
   "outputs": [
    {
     "data": {
      "text/plain": [
       "array([[ 2.21168553, -2.02299249, -0.33675434, ..., -0.23618976,\n",
       "        -2.02299249,  2.21168553],\n",
       "       [-0.26306753, -0.52008097, -0.27911827, ..., -0.23618976,\n",
       "        -0.52008097, -0.26306753],\n",
       "       [-0.65790607, -0.38250515, -0.59611664, ..., -0.23618976,\n",
       "        -0.38250515, -0.65790607],\n",
       "       ...,\n",
       "       [-0.27601305, -0.1448742 , -0.19266417, ..., -0.23618976,\n",
       "        -0.1448742 , -0.27601305],\n",
       "       [ 0.44246364,  0.24909289, -0.19266417, ..., -0.23618976,\n",
       "         0.24909289,  0.44246364],\n",
       "       [-1.04627185, -1.23505829, -0.53848057, ..., -0.23618976,\n",
       "        -1.23505829, -1.04627185]])"
      ]
     },
     "execution_count": 36,
     "metadata": {},
     "output_type": "execute_result"
    }
   ],
   "source": [
    "x_test"
   ]
  },
  {
   "cell_type": "code",
   "execution_count": 37,
   "id": "834ba58e",
   "metadata": {},
   "outputs": [
    {
     "data": {
      "text/plain": [
       "array([[ 0.19434106,  0.05315159, -0.3079363 , ..., -0.23618976,\n",
       "         0.05315159,  0.19434106],\n",
       "       [-1.56409289, -1.15584798, -0.3079363 , ..., -0.23618976,\n",
       "        -1.15584798, -1.56409289],\n",
       "       [-0.66869401, -0.70768435, -0.3943904 , ..., -0.23618976,\n",
       "        -0.70768435, -0.66869401],\n",
       "       ...,\n",
       "       [-0.4421473 , -0.52008097, -0.25030024, ..., -0.23618976,\n",
       "        -0.52008097, -0.4421473 ],\n",
       "       [ 1.55362129,  1.34553043, -0.19266417, ..., -0.23618976,\n",
       "         1.34553043,  1.55362129],\n",
       "       [-1.52957149, -1.59984264, -0.36557237, ..., -0.23618976,\n",
       "        -1.59984264, -1.52957149]])"
      ]
     },
     "execution_count": 37,
     "metadata": {},
     "output_type": "execute_result"
    }
   ],
   "source": [
    "x_train"
   ]
  },
  {
   "cell_type": "markdown",
   "id": "ea773df1",
   "metadata": {},
   "source": [
    "# Developing the Model and prediction"
   ]
  },
  {
   "cell_type": "code",
   "execution_count": 38,
   "id": "5240ccfe",
   "metadata": {},
   "outputs": [],
   "source": [
    "logistic_regression=LogisticRegression(random_state=9)\n"
   ]
  },
  {
   "cell_type": "code",
   "execution_count": 39,
   "id": "19923bbe",
   "metadata": {},
   "outputs": [],
   "source": [
    "#fit the model with the data\n"
   ]
  },
  {
   "cell_type": "code",
   "execution_count": 40,
   "id": "a24d8c5e",
   "metadata": {},
   "outputs": [],
   "source": [
    "logistic_regression.fit(x_train, y_train)\n",
    "y_predicted=logistic_regression.predict(x_test)"
   ]
  },
  {
   "cell_type": "code",
   "execution_count": 41,
   "id": "387b211a",
   "metadata": {},
   "outputs": [
    {
     "data": {
      "text/plain": [
       "array([0, 0, 0, ..., 1, 0, 0], dtype=int64)"
      ]
     },
     "execution_count": 41,
     "metadata": {},
     "output_type": "execute_result"
    }
   ],
   "source": [
    "y_predicted"
   ]
  },
  {
   "cell_type": "code",
   "execution_count": 42,
   "id": "7eebe412",
   "metadata": {},
   "outputs": [
    {
     "data": {
      "text/plain": [
       "array([[1717876,  189324],\n",
       "       [ 419765, 1240267]], dtype=int64)"
      ]
     },
     "execution_count": 42,
     "metadata": {},
     "output_type": "execute_result"
    }
   ],
   "source": [
    "#Evaluate the model \n",
    "confusion_mx=metrics.confusion_matrix(y_test, y_predicted)\n",
    "confusion_mx"
   ]
  },
  {
   "cell_type": "code",
   "execution_count": 43,
   "id": "712e5968",
   "metadata": {},
   "outputs": [],
   "source": [
    "#CONSTRUCT A CONFUSION MATRIX AND CHECK FOR THE ACCURACY "
   ]
  },
  {
   "cell_type": "code",
   "execution_count": 44,
   "id": "9921fc2a",
   "metadata": {},
   "outputs": [
    {
     "data": {
      "image/png": "[encoded data removed]",
      "text/plain": [
       "<Figure size 432x288 with 2 Axes>"
      ]
     },
     "metadata": {
      "needs_background": "light"
     },
     "output_type": "display_data"
    }
   ],
   "source": [
    "Arrdelay_values=[0,1]\n",
    "fig , ax=plt.subplots()\n",
    "tick_Arrdelay=np.arange(len(Arrdelay_values))\n",
    "plt.yticks(tick_Arrdelay , Arrdelay_values)\n",
    "plt.xticks(tick_Arrdelay , Arrdelay_values)\n",
    "\n",
    "sns.heatmap(pd.DataFrame(confusion_mx), annot=True, cmap=\"Blues\" , fmt= \" .2f\")\n",
    "plt.ylabel(\"Actual Values\")\n",
    "plt.xlabel(\"Predicted Values\")\n",
    "plt.title(\"Confusion Matrix\")\n",
    "plt.tight_layout()\n",
    "ax.xaxis.set_label_position('top')\n",
    "plt.show()\n"
   ]
  },
  {
   "cell_type": "code",
   "execution_count": 45,
   "id": "0749f940",
   "metadata": {},
   "outputs": [
    {
     "name": "stdout",
     "output_type": "stream",
     "text": [
      "              precision    recall  f1-score   support\n",
      "\n",
      "           0       0.80      0.90      0.85   1907200\n",
      "           1       0.87      0.75      0.80   1660032\n",
      "\n",
      "    accuracy                           0.83   3567232\n",
      "   macro avg       0.84      0.82      0.83   3567232\n",
      "weighted avg       0.83      0.83      0.83   3567232\n",
      "\n"
     ]
    }
   ],
   "source": [
    "#verify the accuracy of the confusion matrix\n",
    "from sklearn.metrics import classification_report\n",
    "print(classification_report (y_test , y_predicted))\n"
   ]
  },
  {
   "cell_type": "code",
   "execution_count": 46,
   "id": "0b1094b8",
   "metadata": {
    "scrolled": true
   },
   "outputs": [
    {
     "data": {
      "text/plain": [
       "0.829254447145574"
      ]
     },
     "execution_count": 46,
     "metadata": {},
     "output_type": "execute_result"
    }
   ],
   "source": [
    "from sklearn.metrics import accuracy_score\n",
    "accuracy=accuracy_score(y_test, y_predicted)\n",
    "accuracy"
   ]
  },
  {
   "cell_type": "code",
   "execution_count": 47,
   "id": "69d89d9d",
   "metadata": {},
   "outputs": [],
   "source": [
    "#PLOT A ROC CURVE"
   ]
  },
  {
   "cell_type": "code",
   "execution_count": 48,
   "id": "c6991513",
   "metadata": {},
   "outputs": [
    {
     "data": {
      "text/plain": [
       "array([[ 2.21168553, -2.02299249, -0.33675434, ..., -0.23618976,\n",
       "        -2.02299249,  2.21168553],\n",
       "       [-0.26306753, -0.52008097, -0.27911827, ..., -0.23618976,\n",
       "        -0.52008097, -0.26306753],\n",
       "       [-0.65790607, -0.38250515, -0.59611664, ..., -0.23618976,\n",
       "        -0.38250515, -0.65790607],\n",
       "       ...,\n",
       "       [-0.27601305, -0.1448742 , -0.19266417, ..., -0.23618976,\n",
       "        -0.1448742 , -0.27601305],\n",
       "       [ 0.44246364,  0.24909289, -0.19266417, ..., -0.23618976,\n",
       "         0.24909289,  0.44246364],\n",
       "       [-1.04627185, -1.23505829, -0.53848057, ..., -0.23618976,\n",
       "        -1.23505829, -1.04627185]])"
      ]
     },
     "execution_count": 48,
     "metadata": {},
     "output_type": "execute_result"
    }
   ],
   "source": [
    "x_test"
   ]
  },
  {
   "cell_type": "code",
   "execution_count": 49,
   "id": "6c9b078d",
   "metadata": {},
   "outputs": [
    {
     "data": {
      "text/plain": [
       "array([0, 0, 0, ..., 1, 0, 0], dtype=int64)"
      ]
     },
     "execution_count": 49,
     "metadata": {},
     "output_type": "execute_result"
    }
   ],
   "source": [
    "logistic_regression.predict(x_test)"
   ]
  },
  {
   "cell_type": "code",
   "execution_count": 50,
   "id": "f8d5f4ed",
   "metadata": {},
   "outputs": [
    {
     "data": {
      "text/plain": [
       "array([0.48463803, 0.22468638, 0.04205679, ..., 0.87961912, 0.16418131,\n",
       "       0.08283122])"
      ]
     },
     "execution_count": 50,
     "metadata": {},
     "output_type": "execute_result"
    }
   ],
   "source": [
    "logistic_regression.predict_proba(x_test)[::,1]"
   ]
  },
  {
   "cell_type": "code",
   "execution_count": 51,
   "id": "dc2b4118",
   "metadata": {},
   "outputs": [
    {
     "data": {
      "image/png": "[encoded data removed]",
      "text/plain": [
       "<Figure size 432x288 with 1 Axes>"
      ]
     },
     "metadata": {
      "needs_background": "light"
     },
     "output_type": "display_data"
    }
   ],
   "source": [
    "y_pred=logistic_regression.predict_proba(x_test)[::,1]\n",
    "fpr , tpr , _ = metrics.roc_curve(y_test, y_pred)\n",
    "Area_under_curve=metrics.roc_auc_score(y_test, y_pred)\n",
    "plt.plot(fpr, tpr , label= \"line , Area_under_curve=\" +str(Area_under_curve))\n",
    "plt.xlabel(\"False positive rate\")\n",
    "plt.ylabel(\"True positive rate\")\n",
    "plt.title(\"ROC GRAPH\")\n",
    "plt.legend(loc=5)\n",
    "plt.show()"
   ]
  },
  {
   "cell_type": "code",
   "execution_count": 52,
   "id": "880ed6de",
   "metadata": {},
   "outputs": [],
   "source": [
    "#Since the area under the curve is almost one the accuracy is good"
   ]
  },
  {
   "cell_type": "code",
   "execution_count": null,
   "id": "0a78cf98",
   "metadata": {},
   "outputs": [],
   "source": []
  }
 ],
 "metadata": {
  "kernelspec": {
   "display_name": "Python 3 (ipykernel)",
   "language": "python",
   "name": "python3"
  },
  "language_info": {
   "codemirror_mode": {
    "name": "ipython",
    "version": 3
   },
   "file_extension": ".py",
   "mimetype": "text/x-python",
   "name": "python",
   "nbconvert_exporter": "python",
   "pygments_lexer": "ipython3",
   "version": "3.9.12"
  }
 },
 "nbformat": 4,
 "nbformat_minor": 5
}
